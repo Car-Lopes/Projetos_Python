{
 "cells": [
  {
   "cell_type": "code",
   "execution_count": 64,
   "metadata": {},
   "outputs": [],
   "source": [
    "import pyautogui\n",
    "import pyperclip\n",
    "import time\n",
    "\n",
    "time.sleep(2)\n",
    "pyautogui.position()\n"
   ]
  },
  {
   "cell_type": "code",
   "execution_count": null,
   "metadata": {},
   "outputs": [],
   "source": []
  },
  {
   "cell_type": "code",
   "execution_count": 68,
   "metadata": {},
   "outputs": [
    {
     "name": "stdout",
     "output_type": "stream",
     "text": [
      "0\n",
      "1\n",
      "2\n",
      "3\n",
      "4\n",
      "5\n",
      "6\n",
      "7\n",
      "8\n",
      "9\n",
      "10\n",
      "11\n",
      "12\n",
      "13\n",
      "14\n",
      "15\n",
      "16\n",
      "17\n",
      "18\n"
     ]
    },
    {
     "ename": "KeyboardInterrupt",
     "evalue": "",
     "output_type": "error",
     "traceback": [
      "\u001b[1;31m---------------------------------------------------------------------------\u001b[0m",
      "\u001b[1;31mKeyboardInterrupt\u001b[0m                         Traceback (most recent call last)",
      "Cell \u001b[1;32mIn [68], line 11\u001b[0m\n\u001b[0;32m      9\u001b[0m pyautogui\u001b[39m.\u001b[39mclick(x\u001b[39m=\u001b[39m\u001b[39m-\u001b[39m\u001b[39m1944\u001b[39m, y\u001b[39m=\u001b[39m\u001b[39m452\u001b[39m, clicks\u001b[39m=\u001b[39m\u001b[39m1\u001b[39m)\n\u001b[0;32m     10\u001b[0m pyautogui\u001b[39m.\u001b[39mclick(x\u001b[39m=\u001b[39m\u001b[39m-\u001b[39m\u001b[39m1933\u001b[39m, y\u001b[39m=\u001b[39m\u001b[39m516\u001b[39m, clicks\u001b[39m=\u001b[39m\u001b[39m1\u001b[39m) \n\u001b[1;32m---> 11\u001b[0m pyautogui\u001b[39m.\u001b[39;49mclick(x\u001b[39m=\u001b[39;49m\u001b[39m-\u001b[39;49m\u001b[39m1939\u001b[39;49m, y\u001b[39m=\u001b[39;49m\u001b[39m587\u001b[39;49m, clicks\u001b[39m=\u001b[39;49m\u001b[39m1\u001b[39;49m) \n\u001b[0;32m     12\u001b[0m pyautogui\u001b[39m.\u001b[39mclick(x\u001b[39m=\u001b[39m\u001b[39m-\u001b[39m\u001b[39m1935\u001b[39m, y\u001b[39m=\u001b[39m\u001b[39m650\u001b[39m, clicks\u001b[39m=\u001b[39m\u001b[39m1\u001b[39m) \n\u001b[0;32m     13\u001b[0m pyautogui\u001b[39m.\u001b[39mclick(x\u001b[39m=\u001b[39m\u001b[39m-\u001b[39m\u001b[39m1933\u001b[39m, y\u001b[39m=\u001b[39m\u001b[39m713\u001b[39m, clicks\u001b[39m=\u001b[39m\u001b[39m1\u001b[39m) \n",
      "File \u001b[1;32mc:\\Users\\rafael.prado\\AppData\\Local\\Programs\\Python\\Python310\\lib\\site-packages\\pyautogui\\__init__.py:599\u001b[0m, in \u001b[0;36m_genericPyAutoGUIChecks.<locals>.wrapper\u001b[1;34m(*args, **kwargs)\u001b[0m\n\u001b[0;32m    597\u001b[0m failSafeCheck()\n\u001b[0;32m    598\u001b[0m returnVal \u001b[39m=\u001b[39m wrappedFunction(\u001b[39m*\u001b[39margs, \u001b[39m*\u001b[39m\u001b[39m*\u001b[39mkwargs)\n\u001b[1;32m--> 599\u001b[0m _handlePause(kwargs\u001b[39m.\u001b[39;49mget(\u001b[39m\"\u001b[39;49m\u001b[39m_pause\u001b[39;49m\u001b[39m\"\u001b[39;49m, \u001b[39mTrue\u001b[39;49;00m))\n\u001b[0;32m    600\u001b[0m \u001b[39mreturn\u001b[39;00m returnVal\n",
      "File \u001b[1;32mc:\\Users\\rafael.prado\\AppData\\Local\\Programs\\Python\\Python310\\lib\\site-packages\\pyautogui\\__init__.py:643\u001b[0m, in \u001b[0;36m_handlePause\u001b[1;34m(_pause)\u001b[0m\n\u001b[0;32m    641\u001b[0m \u001b[39mif\u001b[39;00m _pause:\n\u001b[0;32m    642\u001b[0m     \u001b[39massert\u001b[39;00m \u001b[39misinstance\u001b[39m(PAUSE, \u001b[39mint\u001b[39m) \u001b[39mor\u001b[39;00m \u001b[39misinstance\u001b[39m(PAUSE, \u001b[39mfloat\u001b[39m)\n\u001b[1;32m--> 643\u001b[0m     time\u001b[39m.\u001b[39;49msleep(PAUSE)\n",
      "\u001b[1;31mKeyboardInterrupt\u001b[0m: "
     ]
    }
   ],
   "source": [
    "import pyautogui\n",
    "import pyperclip\n",
    "import time\n",
    "\n",
    "i = 0\n",
    "for i in range(50): \n",
    "\n",
    "    pyautogui.click(x=-1938, y=383, clicks=1)\n",
    "    pyautogui.click(x=-1944, y=452, clicks=1)\n",
    "    pyautogui.click(x=-1933, y=516, clicks=1) \n",
    "    pyautogui.click(x=-1939, y=587, clicks=1) \n",
    "    pyautogui.click(x=-1935, y=650, clicks=1) \n",
    "    pyautogui.click(x=-1933, y=713, clicks=1) \n",
    "    pyautogui.click(x=-1944, y=782, clicks=1)\n",
    "    pyautogui.click(x=-1927, y=845, clicks=1)\n",
    "    pyautogui.click(x=-1932, y=909, clicks=1) \n",
    "    pyautogui.click(x=-1933, y=977, clicks=1)  \n",
    "    pyautogui.click(x=-595, y=195, clicks=1) \n",
    "    pyautogui.click(x=-1138, y=912, clicks=1) \n",
    "\n",
    "    print(i)\n",
    "  \n",
    "\n"
   ]
  }
 ],
 "metadata": {
  "kernelspec": {
   "display_name": "Python 3",
   "language": "python",
   "name": "python3"
  },
  "language_info": {
   "codemirror_mode": {
    "name": "ipython",
    "version": 3
   },
   "file_extension": ".py",
   "mimetype": "text/x-python",
   "name": "python",
   "nbconvert_exporter": "python",
   "pygments_lexer": "ipython3",
   "version": "3.10.8"
  },
  "orig_nbformat": 4,
  "vscode": {
   "interpreter": {
    "hash": "dc8c7eb92b56c58d26703326ea7ae69e9cac6089da889ac2b46da6138909767d"
   }
  }
 },
 "nbformat": 4,
 "nbformat_minor": 2
}
