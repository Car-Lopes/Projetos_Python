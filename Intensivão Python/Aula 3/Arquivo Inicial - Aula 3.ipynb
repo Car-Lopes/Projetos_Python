{
 "cells": [
  {
   "cell_type": "markdown",
   "metadata": {},
   "source": [
    "# Automação Web e Busca de Informações com Python\n",
    "\n",
    "#### Desafio: \n",
    "\n",
    "Trabalhamos em uma importadora e o preço dos nossos produtos é vinculado a cotação de:\n",
    "- Dólar\n",
    "- Euro\n",
    "- Ouro\n",
    "\n",
    "Precisamos pegar na internet, de forma automática, a cotação desses 3 itens e saber quanto devemos cobrar pelos nossos produtos, considerando uma margem de contribuição que temos na nossa base de dados.\n",
    "\n",
    "Base de Dados: https://drive.google.com/drive/folders/1KmAdo593nD8J9QBaZxPOG1yxHZua4Rtv?usp=sharing\n",
    "\n",
    "Para isso, vamos criar uma automação web:\n",
    "\n",
    "- Usaremos o selenium\n",
    "- Importante: baixar o webdriver"
   ]
  },
  {
   "cell_type": "code",
   "execution_count": 35,
   "metadata": {},
   "outputs": [
    {
     "name": "stdout",
     "output_type": "stream",
     "text": [
      "2023-01-12\n",
      "5.100499999999999\n",
      "Cotação do Euro\n",
      "5.535343127\n",
      "Cotação do Ouro\n",
      "312.23\n"
     ]
    }
   ],
   "source": [
    "# %pip install selenium -- Instalando o selenium  \n",
    "# chromedriver - pesquisar no google o primeiro link entrar para baixar o webdriver\n",
    "# Colocar na pasta aonde o python esta instalado \n",
    "# Pois o Selenium trabalha junto ao webdrive de acordo com cada navegador\n",
    " \n",
    "from datetime import date \n",
    "from selenium import webdriver \n",
    "from selenium.webdriver.common.keys import Keys\n",
    "\n",
    "date_atual = date.today()\n",
    "print(date_atual)\n",
    "\n",
    "navegador = webdriver.Chrome()  # Criando o navegador\n",
    "\n",
    "# Passo 1: Pegar a cotação do dolar\n",
    "    # Entrar no google                                              \n",
    "navegador.get (\"https://www.google.com.br/\")\n",
    "\n",
    "           #find_element identifica o elemento atravez do xpath da pagina                  #.send_keys para fazer uma ação (Escrever)\n",
    "navegador.find_element('xpath', '/html/body/div[1]/div[3]/form/div[1]/div[1]/div[1]/div/div[2]/input').send_keys(\"Cotação dólar\")\n",
    "                    #Para pegar esse caminho da um inspecionar na pagina e botão direito aonde ele marcou com azul(selecionou o elemento)\n",
    "                    # e copiar o xpath   \n",
    "                                                                                                     #Aqui ele esta aperntando o Enter\n",
    "navegador.find_element('xpath', '/html/body/div[1]/div[3]/form/div[1]/div[1]/div[1]/div/div[2]/input').send_keys(Keys.ENTER)\n",
    "\n",
    "                                                                                                     #Pegando a informação (data-value é o campo que esta no xpath)\n",
    "cotacao_dolar = navegador.find_element('xpath', '//*[@id=\"knowledge-currency__updatable-data-column\"]/div[1]/div[2]/span[1]').get_attribute(\"data-value\")\n",
    "\n",
    "#texto = (\"\"\"Cotação do Dolar \"\"\" + {date_atual})\n",
    "print(cotacao_dolar)\n",
    "\n",
    "# Passo 2: Pegar a cotação do euro \n",
    "navegador.get (\"https://www.google.com.br/\")\n",
    "\n",
    "navegador.find_element('xpath', '/html/body/div[1]/div[3]/form/div[1]/div[1]/div[1]/div/div[2]/input').send_keys(\"Cotação euro\")\n",
    "\n",
    "navegador.find_element('xpath', '/html/body/div[1]/div[3]/form/div[1]/div[1]/div[1]/div/div[2]/input').send_keys(Keys.ENTER)\n",
    "\n",
    "cotacao_euro = navegador.find_element('xpath', '//*[@id=\"knowledge-currency__updatable-data-column\"]/div[1]/div[2]/span[1]').get_attribute(\"data-value\")\n",
    "\n",
    "print(\"Cotação do Euro\")\n",
    "print(cotacao_euro)\n",
    "\n",
    "# Passo 3: Pegar a cotação do ouro \n",
    "navegador.get (\"https://dolarhoje.com/ouro-hoje/\")\n",
    "\n",
    "cotacao_ouro = navegador.find_element('xpath', '//*[@id=\"nacional\"]').get_attribute(\"value\")\n",
    "cotacao_ouro = cotacao_ouro.replace(\",\", \".\") #Trocando a Virgula(,) pelo ponto(.)\n",
    "print(\"Cotação do Ouro\")\n",
    "print(cotacao_ouro)\n",
    "\n",
    "# Passo 4: Importar a base de dados e Atualizar a base\n",
    "\n",
    "# Passo 5: Recalcular os preços\n",
    "\n",
    "# Passo 6: Exportar a base atualizada"
   ]
  },
  {
   "cell_type": "markdown",
   "metadata": {},
   "source": [
    "### Agora vamos atualiza a nossa base de preços com as novas cotações"
   ]
  },
  {
   "cell_type": "markdown",
   "metadata": {},
   "source": [
    "- Importando a base de dados"
   ]
  },
  {
   "cell_type": "code",
   "execution_count": null,
   "metadata": {
    "scrolled": true
   },
   "outputs": [],
   "source": []
  },
  {
   "cell_type": "markdown",
   "metadata": {},
   "source": [
    "- Atualizando os preços e o cálculo do Preço Final"
   ]
  },
  {
   "cell_type": "code",
   "execution_count": null,
   "metadata": {},
   "outputs": [],
   "source": []
  },
  {
   "cell_type": "markdown",
   "metadata": {},
   "source": [
    "### Agora vamos exportar a nova base de preços atualizada"
   ]
  },
  {
   "cell_type": "code",
   "execution_count": null,
   "metadata": {},
   "outputs": [],
   "source": []
  }
 ],
 "metadata": {
  "kernelspec": {
   "display_name": "Python 3",
   "language": "python",
   "name": "python3"
  },
  "language_info": {
   "codemirror_mode": {
    "name": "ipython",
    "version": 3
   },
   "file_extension": ".py",
   "mimetype": "text/x-python",
   "name": "python",
   "nbconvert_exporter": "python",
   "pygments_lexer": "ipython3",
   "version": "3.10.8 (tags/v3.10.8:aaaf517, Oct 11 2022, 16:50:30) [MSC v.1933 64 bit (AMD64)]"
  },
  "vscode": {
   "interpreter": {
    "hash": "dc8c7eb92b56c58d26703326ea7ae69e9cac6089da889ac2b46da6138909767d"
   }
  }
 },
 "nbformat": 4,
 "nbformat_minor": 4
}
